{
 "cells": [
  {
   "cell_type": "markdown",
   "metadata": {},
   "source": [
    "## Boston Housing Assignment\n",
    "\n",
    "Andrew Peabody apeab2@uis.edu\n",
    "\n",
    "Uses linear regression to estimate the cost of house in Boston using a well known dataset.\n",
    "\n",
    "Goals:\n",
    "+  Measure the performance of the model provided by the instructor using $R^{2}$ and MSE\n",
    "> Learn how to use sklearn.metrics.r2_score and sklearn.metrics.mean_squared_error\n",
    "+  Implement a new model using L2 regularization\n",
    "> Use sklearn.linear_model.Ridge or sklearn.linear_model.Lasso \n",
    "+  Get the best model by optimizing the regularization parameter.   "
   ]
  },
  {
   "cell_type": "code",
   "execution_count": 137,
   "metadata": {
    "collapsed": false
   },
   "outputs": [],
   "source": [
    "from sklearn import datasets\n",
    "import pandas as pd\n",
    "from sklearn.preprocessing import StandardScaler\n",
    "from sklearn.cross_validation import train_test_split\n",
    "from sklearn.metrics import mean_squared_error\n",
    "from sklearn.metrics import r2_score\n",
    "from sklearn.linear_model import LinearRegression\n",
    "from sklearn.linear_model import Lasso\n",
    "from sklearn.linear_model import Ridge\n",
    "from sklearn.linear_model import RidgeCV\n",
    "from math import sqrt"
   ]
  },
  {
   "cell_type": "code",
   "execution_count": 138,
   "metadata": {
    "collapsed": false
   },
   "outputs": [
    {
     "name": "stdout",
     "output_type": "stream",
     "text": [
      "Boston House Prices dataset\n",
      "\n",
      "Notes\n",
      "------\n",
      "Data Set Characteristics:  \n",
      "\n",
      "    :Number of Instances: 506 \n",
      "\n",
      "    :Number of Attributes: 13 numeric/categorical predictive\n",
      "    \n",
      "    :Median Value (attribute 14) is usually the target\n",
      "\n",
      "    :Attribute Information (in order):\n",
      "        - CRIM     per capita crime rate by town\n",
      "        - ZN       proportion of residential land zoned for lots over 25,000 sq.ft.\n",
      "        - INDUS    proportion of non-retail business acres per town\n",
      "        - CHAS     Charles River dummy variable (= 1 if tract bounds river; 0 otherwise)\n",
      "        - NOX      nitric oxides concentration (parts per 10 million)\n",
      "        - RM       average number of rooms per dwelling\n",
      "        - AGE      proportion of owner-occupied units built prior to 1940\n",
      "        - DIS      weighted distances to five Boston employment centres\n",
      "        - RAD      index of accessibility to radial highways\n",
      "        - TAX      full-value property-tax rate per $10,000\n",
      "        - PTRATIO  pupil-teacher ratio by town\n",
      "        - B        1000(Bk - 0.63)^2 where Bk is the proportion of blacks by town\n",
      "        - LSTAT    % lower status of the population\n",
      "        - MEDV     Median value of owner-occupied homes in $1000's\n",
      "\n",
      "    :Missing Attribute Values: None\n",
      "\n",
      "    :Creator: Harrison, D. and Rubinfeld, D.L.\n",
      "\n",
      "This is a copy of UCI ML housing dataset.\n",
      "http://archive.ics.uci.edu/ml/datasets/Housing\n",
      "\n",
      "\n",
      "This dataset was taken from the StatLib library which is maintained at Carnegie Mellon University.\n",
      "\n",
      "The Boston house-price data of Harrison, D. and Rubinfeld, D.L. 'Hedonic\n",
      "prices and the demand for clean air', J. Environ. Economics & Management,\n",
      "vol.5, 81-102, 1978.   Used in Belsley, Kuh & Welsch, 'Regression diagnostics\n",
      "...', Wiley, 1980.   N.B. Various transformations are used in the table on\n",
      "pages 244-261 of the latter.\n",
      "\n",
      "The Boston house-price data has been used in many machine learning papers that address regression\n",
      "problems.   \n",
      "     \n",
      "**References**\n",
      "\n",
      "   - Belsley, Kuh & Welsch, 'Regression diagnostics: Identifying Influential Data and Sources of Collinearity', Wiley, 1980. 244-261.\n",
      "   - Quinlan,R. (1993). Combining Instance-Based and Model-Based Learning. In Proceedings on the Tenth International Conference of Machine Learning, 236-243, University of Massachusetts, Amherst. Morgan Kaufmann.\n",
      "   - many more! (see http://archive.ics.uci.edu/ml/datasets/Housing)\n",
      "\n"
     ]
    }
   ],
   "source": [
    "bean = datasets.load_boston()\n",
    "print bean.DESCR"
   ]
  },
  {
   "cell_type": "code",
   "execution_count": 139,
   "metadata": {
    "collapsed": false
   },
   "outputs": [],
   "source": [
    "def load_boston():\n",
    "    scaler = StandardScaler()\n",
    "    boston = datasets.load_boston()\n",
    "    X=boston.data\n",
    "    y=boston.target\n",
    "    X = scaler.fit_transform(X)\n",
    "    return train_test_split(X,y)"
   ]
  },
  {
   "cell_type": "code",
   "execution_count": 140,
   "metadata": {
    "collapsed": false
   },
   "outputs": [],
   "source": [
    "X_train, X_test, y_train, y_test = load_boston()"
   ]
  },
  {
   "cell_type": "code",
   "execution_count": 141,
   "metadata": {
    "collapsed": false
   },
   "outputs": [
    {
     "data": {
      "text/plain": [
       "(379L, 13L)"
      ]
     },
     "execution_count": 141,
     "metadata": {},
     "output_type": "execute_result"
    }
   ],
   "source": [
    "X_train.shape"
   ]
  },
  {
   "cell_type": "markdown",
   "metadata": {},
   "source": [
    "### Linear Regression"
   ]
  },
  {
   "cell_type": "code",
   "execution_count": 142,
   "metadata": {
    "collapsed": false
   },
   "outputs": [
    {
     "data": {
      "text/plain": [
       "LinearRegression(copy_X=True, fit_intercept=True, n_jobs=1, normalize=False)"
      ]
     },
     "execution_count": 142,
     "metadata": {},
     "output_type": "execute_result"
    }
   ],
   "source": [
    "clf = LinearRegression()\n",
    "clf.fit(X_train, y_train)"
   ]
  },
  {
   "cell_type": "markdown",
   "metadata": {},
   "source": [
    "### Prediction Tuple"
   ]
  },
  {
   "cell_type": "code",
   "execution_count": 143,
   "metadata": {
    "collapsed": false
   },
   "outputs": [
    {
     "data": {
      "text/plain": [
       "[(16.100000000000001, 18.697774538887369),\n",
       " (19.199999999999999, 23.659638779611726),\n",
       " (21.0, 21.325025453819077),\n",
       " (16.199999999999999, 20.222901690909044),\n",
       " (36.399999999999999, 32.919383421581045),\n",
       " (48.799999999999997, 41.956063448230722),\n",
       " (45.399999999999999, 39.054576074854673),\n",
       " (25.0, 29.104332840480119),\n",
       " (24.699999999999999, 23.829276721901028),\n",
       " (22.800000000000001, 27.037032653357823),\n",
       " (19.899999999999999, 19.273968884963544),\n",
       " (17.800000000000001, 23.11798206020746),\n",
       " (43.5, 39.82841119181046),\n",
       " (14.800000000000001, 14.953013674708217),\n",
       " (17.800000000000001, 19.076014436132581),\n",
       " (27.100000000000001, 19.218267589802156),\n",
       " (23.800000000000001, 25.991316127006531),\n",
       " (22.600000000000001, 27.682532177134444),\n",
       " (31.600000000000001, 32.597555607738173),\n",
       " (32.0, 33.810839164403234),\n",
       " (19.100000000000001, 16.796820144459716),\n",
       " (22.0, 27.787281794793827),\n",
       " (7.0, 8.8783639839780335),\n",
       " (19.800000000000001, 23.212794503288258),\n",
       " (13.4, 14.790038073701229),\n",
       " (14.300000000000001, 16.577847560324408),\n",
       " (29.600000000000001, 24.736190383561333),\n",
       " (7.0, -3.7732027132836272),\n",
       " (22.800000000000001, 24.791776846891107),\n",
       " (23.600000000000001, 29.220524267691957),\n",
       " (41.299999999999997, 32.867161123255627),\n",
       " (15.4, 15.141231525878972),\n",
       " (21.800000000000001, 20.396739991218666),\n",
       " (12.699999999999999, 11.979979440801758),\n",
       " (29.100000000000001, 30.639754106629013),\n",
       " (24.399999999999999, 24.044528330167477),\n",
       " (17.399999999999999, 17.337867414329502),\n",
       " (32.200000000000003, 31.718135959877454),\n",
       " (17.699999999999999, 19.959115694407014),\n",
       " (21.699999999999999, 21.692334975769718),\n",
       " (13.199999999999999, 9.9961914636245019),\n",
       " (30.5, 30.045501389682663),\n",
       " (22.899999999999999, 28.903503288423209),\n",
       " (23.399999999999999, 24.595411444067512),\n",
       " (24.0, 30.014395387964548),\n",
       " (21.699999999999999, 24.131690800732517),\n",
       " (28.699999999999999, 24.96333789208397),\n",
       " (20.399999999999999, 22.817160711854857),\n",
       " (33.399999999999999, 28.752379005475056),\n",
       " (29.399999999999999, 31.362908553010975),\n",
       " (22.399999999999999, 22.760592834961358),\n",
       " (22.600000000000001, 23.302822093349359),\n",
       " (18.600000000000001, 19.712814470689402),\n",
       " (10.9, 19.199157046188699),\n",
       " (21.5, 20.878069679573152),\n",
       " (25.100000000000001, 29.544272085027032),\n",
       " (25.0, 24.882554098356223),\n",
       " (19.600000000000001, 19.677759029917578),\n",
       " (35.399999999999999, 30.735187221171223),\n",
       " (12.6, 18.031891290554267),\n",
       " (13.5, 12.005487862948062),\n",
       " (20.100000000000001, 21.888685786489315),\n",
       " (20.100000000000001, 16.329903042065524),\n",
       " (29.600000000000001, 25.306373253716266),\n",
       " (13.0, 17.28563395174001),\n",
       " (30.100000000000001, 23.443567861995493),\n",
       " (21.0, 23.323133214713412),\n",
       " (19.600000000000001, 17.63124290252707),\n",
       " (14.5, 14.156667106308177),\n",
       " (50.0, 33.469577185499887),\n",
       " (17.199999999999999, 14.459039208854751),\n",
       " (11.9, 22.480253378147715),\n",
       " (20.0, 16.513459213429364),\n",
       " (10.4, 16.384591787485697),\n",
       " (23.5, 29.787939324494687),\n",
       " (7.2000000000000002, 18.271945832313349),\n",
       " (28.199999999999999, 32.910195403198045),\n",
       " (18.199999999999999, 13.076278636628118),\n",
       " (18.899999999999999, 20.781141566623948),\n",
       " (21.399999999999999, 25.196459347240989),\n",
       " (21.699999999999999, 23.931068334737347),\n",
       " (21.199999999999999, 23.784566365177),\n",
       " (34.899999999999999, 34.96279425028888),\n",
       " (42.299999999999997, 37.528494927944735),\n",
       " (15.6, 13.274753982579375),\n",
       " (14.199999999999999, 17.691792151230995),\n",
       " (19.100000000000001, 17.042688505548014),\n",
       " (30.800000000000001, 31.349182899759111),\n",
       " (25.199999999999999, 27.66612137791607),\n",
       " (20.100000000000001, 23.146712379391481),\n",
       " (23.899999999999999, 25.839343701807582),\n",
       " (13.4, 13.729679538771581),\n",
       " (14.1, 17.468178827662179),\n",
       " (28.100000000000001, 25.879611200879864),\n",
       " (22.899999999999999, 22.532942135821393),\n",
       " (24.100000000000001, 26.226311816006355),\n",
       " (50.0, 21.549441058631974),\n",
       " (13.1, 20.466076631067391),\n",
       " (10.5, 13.130134583128024),\n",
       " (26.600000000000001, 28.094414031362806),\n",
       " (10.199999999999999, 15.839917978527229),\n",
       " (31.0, 35.094703751962655),\n",
       " (12.699999999999999, 11.903938470927956),\n",
       " (20.699999999999999, 21.462456213416377),\n",
       " (10.199999999999999, 6.6854858183964705),\n",
       " (34.899999999999999, 34.420061005125959),\n",
       " (27.5, 11.449902644218671),\n",
       " (21.100000000000001, 22.609830159134784),\n",
       " (32.700000000000003, 30.374933980971768),\n",
       " (16.600000000000001, 15.360077346242594),\n",
       " (26.199999999999999, 24.059192668747009),\n",
       " (19.800000000000001, 18.592107112657331),\n",
       " (18.300000000000001, 20.695881672350392),\n",
       " (15.699999999999999, 15.307304611283778),\n",
       " (22.800000000000001, 28.469285071579211),\n",
       " (46.0, 39.989303499587038),\n",
       " (24.199999999999999, 25.813832909415705),\n",
       " (37.299999999999997, 34.601614287668539),\n",
       " (22.199999999999999, 21.964831998081081),\n",
       " (33.799999999999997, 35.415561348654059),\n",
       " (20.399999999999999, 21.464935643696478),\n",
       " (23.300000000000001, 25.207895928927545),\n",
       " (21.699999999999999, 21.104319726770463),\n",
       " (23.100000000000001, 22.934058430385559),\n",
       " (20.0, 22.543232534742344),\n",
       " (19.899999999999999, 17.578284082987611),\n",
       " (33.399999999999999, 36.090788936513718)]"
      ]
     },
     "execution_count": 143,
     "metadata": {},
     "output_type": "execute_result"
    }
   ],
   "source": [
    "zip (y_test, clf.predict(X_test))"
   ]
  },
  {
   "cell_type": "markdown",
   "metadata": {},
   "source": [
    "### $R^{2}$ Score\n",
    "\n",
    "From the sklearn docs:\n",
    "\n",
    "\"Best possible score is 1.0 and it can be negative (because the model can be arbitrarily worse). A constant model that always predicts the expected value of y, disregarding the input features, would get a R^2 score of 0.0.\""
   ]
  },
  {
   "cell_type": "code",
   "execution_count": 144,
   "metadata": {
    "collapsed": false
   },
   "outputs": [
    {
     "data": {
      "text/plain": [
       "0.68922685467600742"
      ]
     },
     "execution_count": 144,
     "metadata": {},
     "output_type": "execute_result"
    }
   ],
   "source": [
    "r2_score(y_test, clf.predict(X_test))"
   ]
  },
  {
   "cell_type": "markdown",
   "metadata": {},
   "source": [
    "### Mean Squared Error (MSE) and Root Mean Squared Error (RMSE)\n",
    "\n",
    "Lower values indicate a better fit."
   ]
  },
  {
   "cell_type": "code",
   "execution_count": 145,
   "metadata": {
    "collapsed": false
   },
   "outputs": [
    {
     "name": "stdout",
     "output_type": "stream",
     "text": [
      "MSE:  24.4802201225\n",
      "RMSE:  4.9477489955\n"
     ]
    }
   ],
   "source": [
    "mse = mean_squared_error(y_test, clf.predict(X_test))\n",
    "print \"MSE: \", mse\n",
    "print \"RMSE: \", sqrt(mse)"
   ]
  },
  {
   "cell_type": "markdown",
   "metadata": {},
   "source": [
    "### Lasso Linear Model\n",
    "\n",
    "Linear Model trained with L1 prior as regularizer (aka the Lasso)"
   ]
  },
  {
   "cell_type": "code",
   "execution_count": 146,
   "metadata": {
    "collapsed": false
   },
   "outputs": [
    {
     "data": {
      "text/plain": [
       "Lasso(alpha=0.1, copy_X=True, fit_intercept=True, max_iter=1000,\n",
       "   normalize=False, positive=False, precompute=False, random_state=None,\n",
       "   selection='cyclic', tol=0.0001, warm_start=False)"
      ]
     },
     "execution_count": 146,
     "metadata": {},
     "output_type": "execute_result"
    }
   ],
   "source": [
    "clf = Lasso(alpha=0.1)\n",
    "clf.fit(X_train, y_train)"
   ]
  },
  {
   "cell_type": "code",
   "execution_count": 147,
   "metadata": {
    "collapsed": false
   },
   "outputs": [
    {
     "name": "stdout",
     "output_type": "stream",
     "text": [
      "R2:  0.679212730476\n",
      "MSE:  25.2690526469\n",
      "RMSE:  5.0268332623\n"
     ]
    }
   ],
   "source": [
    "print \"R2: \", r2_score(y_test, clf.predict(X_test))\n",
    "mse = mean_squared_error(y_test, clf.predict(X_test))\n",
    "print \"MSE: \", mse\n",
    "print \"RMSE: \", sqrt(mse)"
   ]
  },
  {
   "cell_type": "markdown",
   "metadata": {},
   "source": [
    "### Ridge Linear Model\n",
    "\n",
    "Linear least squares with l2 regularization."
   ]
  },
  {
   "cell_type": "code",
   "execution_count": 148,
   "metadata": {
    "collapsed": false
   },
   "outputs": [
    {
     "data": {
      "text/plain": [
       "Ridge(alpha=1.0, copy_X=True, fit_intercept=True, max_iter=None,\n",
       "   normalize=False, random_state=None, solver='auto', tol=0.001)"
      ]
     },
     "execution_count": 148,
     "metadata": {},
     "output_type": "execute_result"
    }
   ],
   "source": [
    "clf = Ridge(alpha=1.0)\n",
    "clf.fit(X_train, y_train)"
   ]
  },
  {
   "cell_type": "code",
   "execution_count": 149,
   "metadata": {
    "collapsed": false
   },
   "outputs": [
    {
     "name": "stdout",
     "output_type": "stream",
     "text": [
      "R2:  0.689070476959\n",
      "MSE:  24.492538307\n",
      "RMSE:  4.94899366609\n"
     ]
    }
   ],
   "source": [
    "print \"R2: \", r2_score(y_test, clf.predict(X_test))\n",
    "mse = mean_squared_error(y_test, clf.predict(X_test))\n",
    "print \"MSE: \", mse\n",
    "print \"RMSE: \", sqrt(mse)"
   ]
  },
  {
   "cell_type": "markdown",
   "metadata": {},
   "source": [
    "### Optimization of the Ridge Linear Model"
   ]
  },
  {
   "cell_type": "code",
   "execution_count": 150,
   "metadata": {
    "collapsed": false
   },
   "outputs": [
    {
     "name": "stdout",
     "output_type": "stream",
     "text": [
      "R2:  0.689211664187\n",
      "MSE:  24.4814167077\n",
      "RMSE:  4.9478699162\n"
     ]
    }
   ],
   "source": [
    "clf = Ridge(alpha=0.1)\n",
    "clf.fit(X_train, y_train)\n",
    "print \"R2: \", r2_score(y_test, clf.predict(X_test))\n",
    "mse = mean_squared_error(y_test, clf.predict(X_test))\n",
    "print \"MSE: \", mse\n",
    "print \"RMSE: \", sqrt(mse)"
   ]
  },
  {
   "cell_type": "code",
   "execution_count": 151,
   "metadata": {
    "collapsed": false
   },
   "outputs": [
    {
     "name": "stdout",
     "output_type": "stream",
     "text": [
      "R2:  0.687416718982\n",
      "MSE:  24.6228081193\n",
      "RMSE:  4.96213745469\n"
     ]
    }
   ],
   "source": [
    "clf = Ridge(alpha=10)\n",
    "clf.fit(X_train, y_train)\n",
    "print \"R2: \", r2_score(y_test, clf.predict(X_test))\n",
    "mse = mean_squared_error(y_test, clf.predict(X_test))\n",
    "print \"MSE: \", mse\n",
    "print \"RMSE: \", sqrt(mse)"
   ]
  },
  {
   "cell_type": "markdown",
   "metadata": {},
   "source": [
    "Use sklearn's Ridge with Cross Validation to check several possible alphas"
   ]
  },
  {
   "cell_type": "code",
   "execution_count": 152,
   "metadata": {
    "collapsed": false
   },
   "outputs": [
    {
     "data": {
      "text/plain": [
       "7.5"
      ]
     },
     "execution_count": 152,
     "metadata": {},
     "output_type": "execute_result"
    }
   ],
   "source": [
    "clf = RidgeCV(alphas=(0.1, 1.0, 5.0, 7.5, 10.0))\n",
    "clf.fit(X_train, y_train)\n",
    "clf.alpha_      "
   ]
  },
  {
   "cell_type": "code",
   "execution_count": 153,
   "metadata": {
    "collapsed": false
   },
   "outputs": [
    {
     "name": "stdout",
     "output_type": "stream",
     "text": [
      "R2:  0.687903365765\n",
      "MSE:  24.5844739822\n",
      "RMSE:  4.95827328636\n"
     ]
    }
   ],
   "source": [
    "clf = Ridge(alpha=7.5)\n",
    "clf.fit(X_train, y_train)\n",
    "print \"R2: \", r2_score(y_test, clf.predict(X_test))\n",
    "mse = mean_squared_error(y_test, clf.predict(X_test))\n",
    "print \"MSE: \", mse\n",
    "print \"RMSE: \", sqrt(mse)"
   ]
  },
  {
   "cell_type": "markdown",
   "metadata": {},
   "source": [
    "### Analysis\n",
    "\n",
    "Overall the performance as measured by R2/MSE of the standard Linear Regression, Lasso, and Ridge model are pretty similar for this particular dataset.  Ideally we are looking for the highest R2 score and lowest MSE/RMSE.  Even after optimization of the regularization parameter the Ridge linear model it does NOT significantly deviate from the performance of the original Linear Regression for this dataset."
   ]
  },
  {
   "cell_type": "code",
   "execution_count": null,
   "metadata": {
    "collapsed": true
   },
   "outputs": [],
   "source": []
  }
 ],
 "metadata": {
  "anaconda-cloud": {},
  "kernelspec": {
   "display_name": "Python [Root]",
   "language": "python",
   "name": "Python [Root]"
  },
  "language_info": {
   "codemirror_mode": {
    "name": "ipython",
    "version": 2
   },
   "file_extension": ".py",
   "mimetype": "text/x-python",
   "name": "python",
   "nbconvert_exporter": "python",
   "pygments_lexer": "ipython2",
   "version": "2.7.12"
  }
 },
 "nbformat": 4,
 "nbformat_minor": 0
}
